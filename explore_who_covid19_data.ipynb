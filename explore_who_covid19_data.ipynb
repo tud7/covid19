{
 "cells": [
  {
   "cell_type": "code",
   "execution_count": 1,
   "metadata": {},
   "outputs": [],
   "source": [
    "'''\n",
    "Explore the COVID-19 data\n",
    "\n",
    "Coronavirus Disease 2019 (COVID-19) is a disease that was first identified in Wuhan, China, \n",
    "and later spread throughout the world\n",
    "\n",
    "The dataset is retrieved from World Health Organization (WHO) Situation Reports which includes:\n",
    "date  location  new_cases  new_deaths  total_cases  total_deaths\n",
    "\n",
    "Author: Tu Duong\n",
    "\n",
    "Copyright © 2020 Tu Duong All Rights Reserved\n",
    "'''\n",
    "\n",
    "import os\n",
    "import csv\n",
    "import urllib\n",
    "import urllib.request\n",
    "import urllib.error\n",
    "import matplotlib.pyplot as plt\n",
    "import ipywidgets        as widgets\n",
    "import pandas            as pd"
   ]
  },
  {
   "cell_type": "code",
   "execution_count": 2,
   "metadata": {},
   "outputs": [],
   "source": [
    "def load_data(url, archived_csv='latest_fulldata_archived.csv'):\n",
    "    \"\"\"Function to load data from the URL into the pandas data frame\n",
    "    \n",
    "    Keyword arguments:\n",
    "    url          -- URL to read the data from\n",
    "    archived_csv -- [optional] path to the archive file in case we can't read \n",
    "                    the data from the provided URL\n",
    "    \"\"\"\n",
    "    \n",
    "    try:\n",
    "        df = pd.read_csv(url)\n",
    "        \n",
    "        # Archive to csv file after successfully read for future offline use\n",
    "        df.to_csv(archived_csv)\n",
    "        \n",
    "    except urllib.error.HTTPError as ex:\n",
    "        print('WARNING: Unable to retrieve data...')\n",
    "        print(' - INFO:', ex)\n",
    "        \n",
    "        if os.path.exists(archived_csv):\n",
    "            df = pd.read_csv(archived_csv)\n",
    "            print(' - INFO: Loading the archived data: ', archived_csv)\n",
    "\n",
    "    return df"
   ]
  },
  {
   "cell_type": "code",
   "execution_count": 3,
   "metadata": {},
   "outputs": [],
   "source": [
    "def plot_data(selected_location, yxs, output_widget, title='', kind='line'):\n",
    "    \"\"\" Function to plot data based on the provided arguments\n",
    "    \n",
    "    Keyword arguments:\n",
    "    selected_location -- the selected location\n",
    "    yxs               -- list of all interested data to include in this plot\n",
    "    output_widget     -- the output widget to display the plot\n",
    "    title             -- optional title of the plot\n",
    "    kind              -- plot kind, default to 'line'\n",
    "    \"\"\"\n",
    "    with output_widget:\n",
    "        \n",
    "        output_widget.clear_output(wait=True)\n",
    "        \n",
    "        filter_condition  = df['location']==selected_location\n",
    "        _data        = df[filter_condition]\n",
    "\n",
    "        plt.figure(figsize=(10,5))\n",
    "        ax = plt.gca()\n",
    "\n",
    "        plt.title(title)\n",
    "        \n",
    "        for y in yxs:\n",
    "            _data.plot(kind=kind, x='date', y=y,  ax=ax)\n",
    "\n",
    "        plt.grid()\n",
    "        plt.show()\n"
   ]
  },
  {
   "cell_type": "code",
   "execution_count": 4,
   "metadata": {},
   "outputs": [],
   "source": [
    "def on_location_change1(change):\n",
    "    '''\n",
    "    Function will be called when user select the new value in the dropdown list #1\n",
    "    '''\n",
    "    \n",
    "    selected_location = change.new\n",
    "    plot_data(selected_location, ['total_cases', 'total_deaths'], cases_vs_deaths_out, title=\"Covid-19 Total Cases vs. Total Deaths\")\n",
    "    \n",
    "\n",
    "def on_location_change2(change):\n",
    "    '''\n",
    "    Function will be called when user select the new value in the dropdown list #2\n",
    "    '''\n",
    "    \n",
    "    selected_location = change.new\n",
    "    plot_data(selected_location, ['new_cases'], new_cases_out, title=\"Covid-19 Day-by-Day New Cases\", kind=\"bar\")\n"
   ]
  },
  {
   "cell_type": "code",
   "execution_count": 5,
   "metadata": {},
   "outputs": [],
   "source": [
    "# load data into pandas data frame\n",
    "covid19_fulldata_url = \"https://covid.ourworldindata.org/data/ecdc/full_data.csv\"\n",
    "df = load_data(url=covid19_fulldata_url)\n",
    "\n",
    "cases_vs_deaths_out = widgets.Output()\n",
    "new_cases_out       = widgets.Output()\n",
    "default_location    = \"United States\""
   ]
  },
  {
   "cell_type": "code",
   "execution_count": 6,
   "metadata": {},
   "outputs": [
    {
     "data": {
      "application/vnd.jupyter.widget-view+json": {
       "model_id": "1976742306d64eaf89a7ce3f3d4e4bd5",
       "version_major": 2,
       "version_minor": 0
      },
      "text/plain": [
       "Dropdown(description='Location:', index=195, options=('Afghanistan', 'Albania', 'Algeria', 'Andorra', 'Angola'…"
      ]
     },
     "metadata": {},
     "output_type": "display_data"
    },
    {
     "data": {
      "application/vnd.jupyter.widget-view+json": {
       "model_id": "e1adbe6b62c841f8b261017a72f0b7bd",
       "version_major": 2,
       "version_minor": 0
      },
      "text/plain": [
       "Output()"
      ]
     },
     "metadata": {},
     "output_type": "display_data"
    }
   ],
   "source": [
    "\n",
    "\n",
    "# Plot Total Cases vs Total Deaths\n",
    "\n",
    "# the dropdown list allows user to select the location\n",
    "location_dropdown1 = widgets.Dropdown(\n",
    "    options=df.location.unique(),\n",
    "    value=default_location,\n",
    "    description='Location:',\n",
    "    disabled=False,\n",
    ")\n",
    "# Set the callback function when the value changed.\n",
    "location_dropdown1.observe(on_location_change1, names='value')\n",
    "\n",
    "plot_data(default_location, ['total_cases', 'total_deaths'], cases_vs_deaths_out, \"Covid-19 Total Cases vs. Total Deaths\")\n",
    "display(location_dropdown1)\n",
    "display(cases_vs_deaths_out)\n"
   ]
  },
  {
   "cell_type": "code",
   "execution_count": 7,
   "metadata": {},
   "outputs": [
    {
     "data": {
      "application/vnd.jupyter.widget-view+json": {
       "model_id": "8592a2bd39b64db6a9cd7124d814f005",
       "version_major": 2,
       "version_minor": 0
      },
      "text/plain": [
       "Dropdown(description='Location:', index=195, options=('Afghanistan', 'Albania', 'Algeria', 'Andorra', 'Angola'…"
      ]
     },
     "metadata": {},
     "output_type": "display_data"
    },
    {
     "data": {
      "application/vnd.jupyter.widget-view+json": {
       "model_id": "85590073689d406a8a8c1e9b625a9dfc",
       "version_major": 2,
       "version_minor": 0
      },
      "text/plain": [
       "Output()"
      ]
     },
     "metadata": {},
     "output_type": "display_data"
    }
   ],
   "source": [
    "# Plot Daily New Cases\n",
    "\n",
    "# the dropdown list allows user to select the location\n",
    "location_dropdown2 = widgets.Dropdown(\n",
    "    options=df.location.unique(),\n",
    "    value=default_location,\n",
    "    description='Location:',\n",
    "    disabled=False,\n",
    ")\n",
    "location_dropdown2.observe(on_location_change2, names='value')\n",
    "\n",
    "plot_data(default_location, ['new_cases'], new_cases_out, title=\"Covid-19 Day-by-Day New Cases\", kind='bar')\n",
    "display(location_dropdown2)\n",
    "display(new_cases_out)"
   ]
  },
  {
   "cell_type": "code",
   "execution_count": null,
   "metadata": {},
   "outputs": [],
   "source": []
  }
 ],
 "metadata": {
  "kernelspec": {
   "display_name": "Python 3",
   "language": "python",
   "name": "python3"
  },
  "language_info": {
   "codemirror_mode": {
    "name": "ipython",
    "version": 3
   },
   "file_extension": ".py",
   "mimetype": "text/x-python",
   "name": "python",
   "nbconvert_exporter": "python",
   "pygments_lexer": "ipython3",
   "version": "3.7.6"
  }
 },
 "nbformat": 4,
 "nbformat_minor": 4
}
