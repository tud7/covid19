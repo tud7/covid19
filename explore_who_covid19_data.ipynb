{
 "cells": [
  {
   "cell_type": "code",
   "execution_count": 1,
   "metadata": {},
   "outputs": [],
   "source": [
    "'''\n",
    "Explore the COVID-19 data\n",
    "\n",
    "Coronavirus Disease 2019 (COVID-19) is a disease that was first identified in Wuhan, China, \n",
    "and later spread throughout the world\n",
    "\n",
    "The dataset is retrieved from World Health Organization (WHO) Situation Reports which includes:\n",
    "date  location  new_cases  new_deaths  total_cases  total_deaths\n",
    "\n",
    "Author: Tu Duong\n",
    "\n",
    "Copyright © 2020 Tu Duong All Rights Reserved\n",
    "'''\n",
    "\n",
    "import csv\n",
    "import urllib\n",
    "import urllib.request\n",
    "import urllib.error\n",
    "import matplotlib.pyplot as plt\n",
    "import ipywidgets        as widgets\n",
    "import pandas            as pd"
   ]
  },
  {
   "cell_type": "code",
   "execution_count": 2,
   "metadata": {},
   "outputs": [],
   "source": [
    "cases_vs_deaths_out = widgets.Output()\n",
    "new_cases_out       = widgets.Output()"
   ]
  },
  {
   "cell_type": "code",
   "execution_count": 3,
   "metadata": {},
   "outputs": [],
   "source": [
    "def load_data():\n",
    "    '''\n",
    "    Function to download latest data from the WHO URL and load into the data frame\n",
    "    '''\n",
    "    \n",
    "    csv_file = 'latest_who_covid19_data.csv'\n",
    "    try:\n",
    "        \n",
    "        url = 'https://covid.ourworldindata.org/data/ecdc/full_data.csv'\n",
    "        urllib.request.urlretrieve(url, csv_file)\n",
    "        \n",
    "    except urllib.error.HTTPError as ex:\n",
    "        print('WARNING: Unable to retrieve data...')\n",
    "        print(' - INFO:', ex)\n",
    "        \n",
    "        csv_file = 'who_covid19_data_20200317.csv'\n",
    "        print(' - INFO: Loading the default data: ', csv_file)\n",
    "\n",
    "    # read data into pandas data frame\n",
    "    df = pd.read_csv(csv_file)\n",
    "\n",
    "    return df"
   ]
  },
  {
   "cell_type": "code",
   "execution_count": 4,
   "metadata": {},
   "outputs": [],
   "source": [
    "def plot_data(selected_location, yxs, output_widget, title=''):\n",
    "    '''\n",
    "    Function to plot data based on the selected location\n",
    "    '''\n",
    "    with output_widget:\n",
    "        \n",
    "        output_widget.clear_output(wait=True)\n",
    "        \n",
    "        filter_condition  = df['location']==selected_location\n",
    "        _data        = df[filter_condition]\n",
    "\n",
    "        plt.figure(figsize=(10,5))\n",
    "        ax = plt.gca()\n",
    "\n",
    "        plt.title(title)\n",
    "        \n",
    "        for y in yxs:\n",
    "            _data.plot(kind='line', x='date', y=y,  ax=ax)\n",
    "\n",
    "        plt.grid()\n",
    "        plt.show()\n"
   ]
  },
  {
   "cell_type": "code",
   "execution_count": 5,
   "metadata": {},
   "outputs": [],
   "source": [
    "def on_location_change(change):\n",
    "    '''\n",
    "    Function will be called when user select the new value in the dropdown list\n",
    "    '''\n",
    "    \n",
    "    selected_location = change.new\n",
    "    plot_data(selected_location, ['total_cases', 'total_deaths'], cases_vs_deaths_out, \"Covid-19 Total Cases vs. Total Deaths\")\n",
    "    \n",
    "\n",
    "def on_location_change2(change):\n",
    "    '''\n",
    "    Function will be called when user select the new value in the dropdown list\n",
    "    '''\n",
    "    \n",
    "    selected_location = change.new\n",
    "    plot_data(selected_location, ['new_cases'], new_cases_out, \"Covid-19 Day-by-Day New Cases\")\n"
   ]
  },
  {
   "cell_type": "code",
   "execution_count": 6,
   "metadata": {},
   "outputs": [],
   "source": [
    "# load data into pandas data frame\n",
    "df = load_data()"
   ]
  },
  {
   "cell_type": "code",
   "execution_count": 7,
   "metadata": {},
   "outputs": [
    {
     "data": {
      "application/vnd.jupyter.widget-view+json": {
       "model_id": "9fdb283692df4f5fa08b6d2878bba6a1",
       "version_major": 2,
       "version_minor": 0
      },
      "text/plain": [
       "Dropdown(description='Location:', index=166, options=('Afghanistan', 'Albania', 'Algeria', 'Andorra', 'Antigua…"
      ]
     },
     "metadata": {},
     "output_type": "display_data"
    },
    {
     "data": {
      "application/vnd.jupyter.widget-view+json": {
       "model_id": "1c0cd8492a194affbb32703abecfd7cf",
       "version_major": 2,
       "version_minor": 0
      },
      "text/plain": [
       "Output()"
      ]
     },
     "metadata": {},
     "output_type": "display_data"
    }
   ],
   "source": [
    "default_location = \"World\"\n",
    "\n",
    "# the dropdown list allows user to select the location\n",
    "location_dropdown = widgets.Dropdown(\n",
    "    options=df.location.unique(),\n",
    "    value=default_location,\n",
    "    description='Location:',\n",
    "    disabled=False,\n",
    ")\n",
    "location_dropdown.observe(on_location_change, names='value')\n",
    "\n",
    "plot_data(default_location, ['total_cases', 'total_deaths'], cases_vs_deaths_out, \"Covid-19 Total Cases vs. Total Deaths\")\n",
    "display(location_dropdown)\n",
    "display(cases_vs_deaths_out)\n"
   ]
  },
  {
   "cell_type": "code",
   "execution_count": 8,
   "metadata": {},
   "outputs": [
    {
     "data": {
      "application/vnd.jupyter.widget-view+json": {
       "model_id": "a5482270536c4186bd13850388bdadac",
       "version_major": 2,
       "version_minor": 0
      },
      "text/plain": [
       "Dropdown(description='Location:', index=166, options=('Afghanistan', 'Albania', 'Algeria', 'Andorra', 'Antigua…"
      ]
     },
     "metadata": {},
     "output_type": "display_data"
    },
    {
     "data": {
      "application/vnd.jupyter.widget-view+json": {
       "model_id": "bcdba315345a43d1b5874f50b3803880",
       "version_major": 2,
       "version_minor": 0
      },
      "text/plain": [
       "Output()"
      ]
     },
     "metadata": {},
     "output_type": "display_data"
    }
   ],
   "source": [
    "default_location2 = \"World\"\n",
    "\n",
    "# the dropdown list allows user to select the location\n",
    "location_dropdown2 = widgets.Dropdown(\n",
    "    options=df.location.unique(),\n",
    "    value=default_location,\n",
    "    description='Location:',\n",
    "    disabled=False,\n",
    ")\n",
    "location_dropdown2.observe(on_location_change2, names='value')\n",
    "\n",
    "plot_data(default_location, ['new_cases'], new_cases_out, \"Covid-19 Day-by-Day New Cases\")\n",
    "display(location_dropdown2)\n",
    "display(new_cases_out)"
   ]
  },
  {
   "cell_type": "code",
   "execution_count": null,
   "metadata": {},
   "outputs": [],
   "source": []
  }
 ],
 "metadata": {
  "kernelspec": {
   "display_name": "Python 3",
   "language": "python",
   "name": "python3"
  },
  "language_info": {
   "codemirror_mode": {
    "name": "ipython",
    "version": 3
   },
   "file_extension": ".py",
   "mimetype": "text/x-python",
   "name": "python",
   "nbconvert_exporter": "python",
   "pygments_lexer": "ipython3",
   "version": "3.7.6"
  }
 },
 "nbformat": 4,
 "nbformat_minor": 4
}
