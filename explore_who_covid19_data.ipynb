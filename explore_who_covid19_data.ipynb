{
 "cells": [
  {
   "cell_type": "code",
   "execution_count": 95,
   "metadata": {},
   "outputs": [],
   "source": [
    "'''\n",
    "Explore the COVID-19 data\n",
    "\n",
    "Coronavirus Disease 2019 (COVID-19) is a disease that was first identified in Wuhan, China, \n",
    "and later spread throughout the world\n",
    "\n",
    "The dataset is retrieved from World Health Organization (WHO) Situation Reports which includes:\n",
    "date  location  new_cases  new_deaths  total_cases\n",
    "\n",
    "Author: Tu Duong\n",
    "\n",
    "Copyright © 2020 Tu Duong All Rights Reserved\n",
    "'''\n",
    "\n",
    "import csv\n",
    "import urllib\n",
    "import urllib.request\n",
    "import urllib.error\n",
    "import matplotlib.pyplot as plt\n",
    "import ipywidgets        as widgets\n",
    "import pandas            as pd\n"
   ]
  },
  {
   "cell_type": "code",
   "execution_count": 96,
   "metadata": {},
   "outputs": [],
   "source": [
    "def load_data():\n",
    "    '''\n",
    "    Function to download latest data from the WHO URL and load into the data frame\n",
    "    '''\n",
    "    \n",
    "    csv_file = 'latest_who_covid19_data.csv'\n",
    "    try:\n",
    "        \n",
    "        url = 'https://covid.ourworldindata.org/data/full_data.csv'\n",
    "        urllib.request.urlretrieve(url, csv_file)\n",
    "        \n",
    "    except urllib.error.HTTPError as ex:\n",
    "        print('WARNING: Unable to retrieve data...')\n",
    "        print(' - INFO:', ex)\n",
    "        \n",
    "        csv_file = 'who_covid19_data_20200317.csv'\n",
    "        print(' - INFO: Loading the default data: ', csv_file)\n",
    "\n",
    "    # read data into pandas data frame\n",
    "    df = pd.read_csv(csv_file)\n",
    "\n",
    "    return df\n"
   ]
  },
  {
   "cell_type": "code",
   "execution_count": 97,
   "metadata": {},
   "outputs": [],
   "source": [
    "output_widget = widgets.Output()\n",
    "    \n",
    "def plot_data(selected_location):\n",
    "    '''\n",
    "    Function to plot data based on the selected location\n",
    "    '''\n",
    "    with output_widget:\n",
    "        \n",
    "        output_widget.clear_output(wait=True)\n",
    "        \n",
    "        filter_condition  = df['location']==selected_location\n",
    "        _data        = df[filter_condition]\n",
    "\n",
    "        plt.figure(figsize=(12,6))\n",
    "        ax = plt.gca()\n",
    "\n",
    "        plt.title(\"Covid-19 Total Cases vs. Total Deaths\")\n",
    "        \n",
    "        _data.plot(kind='line', x='date', y='total_cases',  ax=ax)\n",
    "        _data.plot(kind='line', x='date', y='total_deaths', ax=ax)\n",
    "\n",
    "        plt.grid()\n",
    "        plt.show()\n"
   ]
  },
  {
   "cell_type": "code",
   "execution_count": 98,
   "metadata": {},
   "outputs": [],
   "source": [
    "def on_location_change(change):\n",
    "    '''\n",
    "    Function will be called when user select the new value in the dropdown list\n",
    "    '''\n",
    "    \n",
    "    selected_location = change.new\n",
    "    plot_data(selected_location)\n"
   ]
  },
  {
   "cell_type": "code",
   "execution_count": 99,
   "metadata": {},
   "outputs": [
    {
     "data": {
      "application/vnd.jupyter.widget-view+json": {
       "model_id": "678e91ceb83143cbacb4e56085b80e54",
       "version_major": 2,
       "version_minor": 0
      },
      "text/plain": [
       "Dropdown(description='Location:', index=160, options=('Afghanistan', 'Albania', 'Algeria', 'Andorra', 'Antigua…"
      ]
     },
     "metadata": {},
     "output_type": "display_data"
    },
    {
     "data": {
      "application/vnd.jupyter.widget-view+json": {
       "model_id": "6d4e95601e5f4e7097dc8da3f0ab04ef",
       "version_major": 2,
       "version_minor": 0
      },
      "text/plain": [
       "Output()"
      ]
     },
     "metadata": {},
     "output_type": "display_data"
    }
   ],
   "source": [
    "# load data into pandas data frame\n",
    "df = load_data()\n",
    "\n",
    "default_location = \"World\"\n",
    "\n",
    "# the dropdown list allows user to select the location\n",
    "location_dropdown = widgets.Dropdown(\n",
    "    options=df.location.unique(),\n",
    "    value=default_location,\n",
    "    description='Location:',\n",
    "    disabled=False,\n",
    ")\n",
    "location_dropdown.observe(on_location_change, names='value')\n",
    "\n",
    "plot_data(default_location)\n",
    "display(location_dropdown)\n",
    "display(output_widget)\n"
   ]
  },
  {
   "cell_type": "code",
   "execution_count": null,
   "metadata": {},
   "outputs": [],
   "source": []
  }
 ],
 "metadata": {
  "kernelspec": {
   "display_name": "Python 3",
   "language": "python",
   "name": "python3"
  },
  "language_info": {
   "codemirror_mode": {
    "name": "ipython",
    "version": 3
   },
   "file_extension": ".py",
   "mimetype": "text/x-python",
   "name": "python",
   "nbconvert_exporter": "python",
   "pygments_lexer": "ipython3",
   "version": "3.7.6"
  }
 },
 "nbformat": 4,
 "nbformat_minor": 4
}
